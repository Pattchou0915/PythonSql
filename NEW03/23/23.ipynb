{
 "cells": [
  {
   "cell_type": "code",
   "execution_count": 8,
   "metadata": {},
   "outputs": [
    {
     "data": {
      "text/plain": [
       "{'name': '周威豪', '國文': 78, '英文': 92, '數學': 91}"
      ]
     },
     "execution_count": 8,
     "metadata": {},
     "output_type": "execute_result"
    }
   ],
   "source": [
    "#使用dictionary建立資料\n",
    "\n",
    "{\"name\":\"周威豪\",\n",
    " \"國文\":78,\n",
    " \"英文\":92,\n",
    " \"數學\":91\n",
    " }"
   ]
  },
  {
   "cell_type": "code",
   "execution_count": 14,
   "metadata": {},
   "outputs": [
    {
     "name": "stdout",
     "output_type": "stream",
     "text": [
      "周威豪\n",
      "78\n",
      "92\n",
      "91\n"
     ]
    }
   ],
   "source": [
    "#建立dict的實體\n",
    "student:dict[str,any] = {\n",
    "    \"name\":\"周威豪\",\n",
    "    \"國文\":78,\n",
    "    \"英文\":92,\n",
    "    \"數學\":91\n",
    " }\n",
    "\n",
    "print(student['name'])\n",
    "print(student['國文'])\n",
    "print(student['英文'])\n",
    "print(student['數學'])\n"
   ]
  },
  {
   "cell_type": "code",
   "execution_count": 15,
   "metadata": {},
   "outputs": [
    {
     "name": "stdout",
     "output_type": "stream",
     "text": [
      "10\n",
      "20\n",
      "30\n"
     ]
    }
   ],
   "source": [
    "#建立list實體\n",
    "values:list[int] = [10,20,30]\n",
    "print(values[0])\n",
    "print(values[1])\n",
    "print(values[2])"
   ]
  },
  {
   "cell_type": "code",
   "execution_count": 16,
   "metadata": {},
   "outputs": [
    {
     "name": "stdout",
     "output_type": "stream",
     "text": [
      "10\n",
      "20\n",
      "30\n"
     ]
    }
   ],
   "source": [
    "values:list[int] = [10,20,30]\n",
    "for value in values:\n",
    "    print(value)"
   ]
  },
  {
   "cell_type": "code",
   "execution_count": 23,
   "metadata": {},
   "outputs": [
    {
     "name": "stdout",
     "output_type": "stream",
     "text": [
      "<class 'str'>\n",
      "key=name\n",
      "value=周威豪\n",
      "===\n",
      "<class 'str'>\n",
      "key=國文\n",
      "value=78\n",
      "===\n",
      "<class 'str'>\n",
      "key=英文\n",
      "value=92\n",
      "===\n",
      "<class 'str'>\n",
      "key=數學\n",
      "value=91\n",
      "===\n"
     ]
    }
   ],
   "source": [
    "student:dict[str,any] = {\n",
    "    \"name\":\"周威豪\",\n",
    "    \"國文\":78,\n",
    "    \"英文\":92,\n",
    "    \"數學\":91\n",
    " }\n",
    "\n",
    "for key in student:\n",
    "    print(type(key))\n",
    "    print(f'key={key}')\n",
    "    print(f'value={student[key]}')\n",
    "    print('===')\n"
   ]
  },
  {
   "cell_type": "code",
   "execution_count": 25,
   "metadata": {},
   "outputs": [
    {
     "name": "stdout",
     "output_type": "stream",
     "text": [
      "404\n",
      "沒有網頁\n",
      "404\n",
      "沒有網頁\n"
     ]
    }
   ],
   "source": [
    "#tupe的拆解法\n",
    "code, error = (404,'沒有網頁')\n",
    "print(code)\n",
    "print(error)\n",
    "\n",
    "code, error = 404,'沒有網頁'\n",
    "print(code)\n",
    "print(error)"
   ]
  },
  {
   "cell_type": "code",
   "execution_count": null,
   "metadata": {},
   "outputs": [],
   "source": [
    "values:list[int] = [10,20,30]\n",
    "for value in enumerate(values):\n",
    "    print(f'索引編號:{idx}')\n",
    "    print(f'值:{value}')"
   ]
  },
  {
   "cell_type": "code",
   "execution_count": 130,
   "metadata": {},
   "outputs": [],
   "source": [
    "student:dict[str,any] = {\n",
    "    \"name\":\"周威豪\",\n",
    "    \"國文\":78,\n",
    "    \"英文\":92,\n",
    "    \"數學\":91\n",
    " }\n",
    " "
   ]
  },
  {
   "cell_type": "code",
   "execution_count": null,
   "metadata": {},
   "outputs": [],
   "source": [
    "for key in student.keys():\n",
    "    print(key)"
   ]
  },
  {
   "cell_type": "code",
   "execution_count": null,
   "metadata": {},
   "outputs": [],
   "source": [
    "for value in student.values():\n",
    "    print(value)"
   ]
  },
  {
   "cell_type": "code",
   "execution_count": null,
   "metadata": {},
   "outputs": [],
   "source": [
    "for key,value in student.items():\n",
    "    print(key)\n",
    "    print(value)\n",
    "    print('======')"
   ]
  },
  {
   "cell_type": "code",
   "execution_count": 49,
   "metadata": {},
   "outputs": [],
   "source": [
    "students:list[dict]= [\n",
    "{\"name\":\"周威豪\",\"國文\":78,\"英文\":92,\"數學\":91},\n",
    "{\"name\":\"周豪\",\"國文\":78,\"英文\":92,\"數學\":91},\n",
    "{\"name\":\"周威\",\"國文\":78,\"英文\":92,\"數學\":91}\n",
    "]"
   ]
  },
  {
   "cell_type": "code",
   "execution_count": null,
   "metadata": {},
   "outputs": [],
   "source": [
    "for student in students:\n",
    "    for key,value in student.items():\n",
    "        print(key)\n",
    "        print(value)\n",
    "    print('=====================')"
   ]
  },
  {
   "cell_type": "code",
   "execution_count": 54,
   "metadata": {},
   "outputs": [
    {
     "name": "stdout",
     "output_type": "stream",
     "text": [
      "key=name,value=周威豪\n",
      "key=國文,value=78\n",
      "key=英文,value=92\n",
      "key=數學,value=91\n",
      "==============\n",
      "key=name,value=周豪\n",
      "key=國文,value=78\n",
      "key=英文,value=92\n",
      "key=數學,value=91\n",
      "==============\n",
      "key=name,value=周威\n",
      "key=國文,value=78\n",
      "key=英文,value=92\n",
      "key=數學,value=91\n",
      "==============\n"
     ]
    }
   ],
   "source": [
    "for student in students:\n",
    "    for key,value in student.items():\n",
    "        print(f'key={key},value={value}')\n",
    "        \n",
    "    print(\"==============\")"
   ]
  },
  {
   "cell_type": "code",
   "execution_count": 71,
   "metadata": {},
   "outputs": [],
   "source": [
    "#自訂function,參數\n",
    "def say_hello():\n",
    "    print(\"Hello\")"
   ]
  },
  {
   "cell_type": "code",
   "execution_count": null,
   "metadata": {},
   "outputs": [],
   "source": [
    "\n",
    "#呼叫function,引數值\n",
    "say_hello()"
   ]
  },
  {
   "cell_type": "code",
   "execution_count": 73,
   "metadata": {},
   "outputs": [],
   "source": [
    "def say_hello(name):\n",
    "    print(f'Hello!{name}')"
   ]
  },
  {
   "cell_type": "code",
   "execution_count": null,
   "metadata": {},
   "outputs": [],
   "source": [
    "#引述值的呼叫\n",
    "say_hello(\"周豪\")"
   ]
  },
  {
   "cell_type": "code",
   "execution_count": null,
   "metadata": {},
   "outputs": [],
   "source": [
    "#引述名稱的呼叫\n",
    "say_hello(name=\"威豪\")"
   ]
  },
  {
   "cell_type": "code",
   "execution_count": 126,
   "metadata": {},
   "outputs": [],
   "source": [
    "#PATT\n",
    "def menu(wine, entree, dessert):\n",
    "    print(f'前酒:{wine}')\n",
    "    print(f'主餐:{entree}')\n",
    "    print(f'甜點:{dessert}')"
   ]
  },
  {
   "cell_type": "code",
   "execution_count": null,
   "metadata": {},
   "outputs": [],
   "source": [
    "#引述值的呼叫,必須依照參數順序\n",
    "menu('白酒','牛排','布丁')"
   ]
  },
  {
   "cell_type": "code",
   "execution_count": null,
   "metadata": {},
   "outputs": [],
   "source": [
    "#引述名稱的呼叫,不需要依順序\n",
    "menu(entree='牛排',dessert=\"布丁\",wine=\"白酒\")"
   ]
  },
  {
   "cell_type": "code",
   "execution_count": null,
   "metadata": {},
   "outputs": [],
   "source": [
    "#混和呼叫\n",
    "#前面使用引數值\n",
    "#後引述名稱呼叫\n",
    "menu('白酒',dessert=\"布丁\",entree=\"牛排\")"
   ]
  },
  {
   "cell_type": "code",
   "execution_count": 131,
   "metadata": {},
   "outputs": [],
   "source": [
    "#參數可以有type hint\n",
    "\n",
    "def menu(wine:str, entree:str, dessert:str):\n",
    "    print(f'前酒:{wine}')\n",
    "    print(f'主餐:{entree}')\n",
    "    print(f'甜點:{dessert}')"
   ]
  },
  {
   "cell_type": "code",
   "execution_count": null,
   "metadata": {},
   "outputs": [],
   "source": [
    "menu('白酒',dessert=\"布丁\",entree=\"牛排\")"
   ]
  },
  {
   "cell_type": "code",
   "execution_count": 135,
   "metadata": {},
   "outputs": [],
   "source": [
    "#function傳出的值\n",
    "def menu(wine:str, entree:str, dessert:str)->dict[str,str]:\n",
    "    return {\"前酒\":wine,\"主餐\":entree,\"田點\":dessert}"
   ]
  },
  {
   "cell_type": "code",
   "execution_count": 136,
   "metadata": {},
   "outputs": [
    {
     "data": {
      "text/plain": [
       "{'前酒': '白酒', '主餐': '牛排', '田點': '布丁'}"
      ]
     },
     "execution_count": 136,
     "metadata": {},
     "output_type": "execute_result"
    }
   ],
   "source": [
    "my_nenu = menu('白酒',dessert=\"布丁\",entree=\"牛排\")\n",
    "my_nenu"
   ]
  },
  {
   "cell_type": "code",
   "execution_count": 138,
   "metadata": {},
   "outputs": [],
   "source": [
    "#參數的default value\n",
    "def menu(wine:str, entree:str, dessert:str=\"布丁\")->dict[str,str]:\n",
    "    return {\"前酒\":wine,\"主餐\":entree,\"田點\":dessert}"
   ]
  },
  {
   "cell_type": "code",
   "execution_count": 140,
   "metadata": {},
   "outputs": [
    {
     "name": "stdout",
     "output_type": "stream",
     "text": [
      "{'前酒': '白酒', '主餐': '牛排', '田點': '布丁'}\n",
      "{'前酒': '白就', '主餐': '牛排', '田點': '水果'}\n"
     ]
    }
   ],
   "source": [
    "print(menu('白酒','牛排'))\n",
    "print (menu('白就','牛排',dessert='水果'))"
   ]
  },
  {
   "cell_type": "code",
   "execution_count": 159,
   "metadata": {},
   "outputs": [],
   "source": [
    "def menu(wine:str, entree:str='牛排', dessert:str=\"布丁\")->dict[str,str]:\n",
    "    return {\"前酒\":wine,\"主餐\":entree,\"田點\":dessert}\n",
    "\n"
   ]
  },
  {
   "cell_type": "code",
   "execution_count": 147,
   "metadata": {},
   "outputs": [
    {
     "name": "stdout",
     "output_type": "stream",
     "text": [
      "{'前酒': '白酒', '主餐': '牛排', '田點': '布丁'}\n",
      "{'前酒': '白酒', '主餐': '牛排', '田點': '水果'}\n",
      "{'前酒': '白酒', '主餐': '龍蝦', '田點': '水果'}\n"
     ]
    }
   ],
   "source": [
    "print(menu('白酒'))\n",
    "print(menu('白酒',dessert='水果'))\n",
    "print(menu('白酒',dessert='水果',entree='龍蝦'))"
   ]
  },
  {
   "cell_type": "code",
   "execution_count": 158,
   "metadata": {},
   "outputs": [],
   "source": [
    "def menu(wine:str='白酒', entree:str='牛排', dessert:str='布丁')->dict[str,str]:\n",
    "    return {\"前酒\":wine,\"主餐\":entree,\"田點\":dessert}\n",
    "\n",
    "    menu()"
   ]
  },
  {
   "cell_type": "code",
   "execution_count": 155,
   "metadata": {},
   "outputs": [
    {
     "data": {
      "text/plain": [
       "{'前酒': '白酒', '主餐': '牛排', '甜點': '蛋糕'}"
      ]
     },
     "execution_count": 155,
     "metadata": {},
     "output_type": "execute_result"
    }
   ],
   "source": [
    "def menu(wine:str='白酒', entree:str='牛排', dessert:str='蛋糕')->dict[str,str]:    \n",
    "    return {'前酒':wine,'主餐':entree,'甜點':dessert}\n",
    "\n",
    "menu()"
   ]
  },
  {
   "cell_type": "code",
   "execution_count": 182,
   "metadata": {},
   "outputs": [
    {
     "name": "stdout",
     "output_type": "stream",
     "text": [
      "()\n",
      "('白酒', '紅酒')\n"
     ]
    }
   ],
   "source": [
    "def menu(*args):\n",
    "    print(args)\n",
    "\n",
    "menu()\n",
    "menu('白酒','紅酒')"
   ]
  },
  {
   "cell_type": "code",
   "execution_count": 183,
   "metadata": {},
   "outputs": [
    {
     "name": "stdout",
     "output_type": "stream",
     "text": [
      "{}\n",
      "{'酒1': '白酒', '酒2': '紅酒'}\n"
     ]
    }
   ],
   "source": [
    "def menu(**kwargs):\n",
    "    print(kwargs)\n",
    "\n",
    "menu()\n",
    "menu(酒1='白酒',酒2='紅酒')"
   ]
  },
  {
   "cell_type": "code",
   "execution_count": 176,
   "metadata": {},
   "outputs": [
    {
     "name": "stdout",
     "output_type": "stream",
     "text": [
      "1_2_3.0_True.\n"
     ]
    }
   ],
   "source": [
    "print('1',2, 3.0, True,sep='_',end='.\\n')"
   ]
  }
 ],
 "metadata": {
  "kernelspec": {
   "display_name": "Python 3",
   "language": "python",
   "name": "python3"
  },
  "language_info": {
   "codemirror_mode": {
    "name": "ipython",
    "version": 3
   },
   "file_extension": ".py",
   "mimetype": "text/x-python",
   "name": "python",
   "nbconvert_exporter": "python",
   "pygments_lexer": "ipython3",
   "version": "3.12.2"
  }
 },
 "nbformat": 4,
 "nbformat_minor": 2
}

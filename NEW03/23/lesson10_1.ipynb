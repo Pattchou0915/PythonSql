{
 "cells": [
  {
   "cell_type": "code",
   "execution_count": null,
   "metadata": {},
   "outputs": [],
   "source": [
    "#讀取names.txt\n",
    "file = open('names.txt',encoding=\"utf-8\")\n",
    "type(file)\n",
    "print(file.closed)\n",
    "file.close()\n",
    "print(file.closed)"
   ]
  },
  {
   "cell_type": "code",
   "execution_count": null,
   "metadata": {},
   "outputs": [],
   "source": [
    "#讀取names.txt\n",
    "#建立file物件\n",
    "file = open('names.txt',encoding=\"utf-8\")\n",
    "type(file)\n",
    "#讀取檔案文字\n",
    "content:str = file.read()\n",
    "print(content)\n",
    "print(file.closed)\n",
    "#關閉連線\n",
    "file.close()\n",
    "print(file.closed)"
   ]
  },
  {
   "cell_type": "code",
   "execution_count": null,
   "metadata": {},
   "outputs": [],
   "source": [
    "#with as 自動close()\n",
    "with open('names.txt',encoding='utf-8') as file:\n",
    "    content:str = file.read()\n",
    "\n",
    "names:list[str] = content.split(sep='\\n')\n",
    "for name in names:\n",
    "    print(name)"
   ]
  },
  {
   "cell_type": "code",
   "execution_count": null,
   "metadata": {},
   "outputs": [],
   "source": [
    "import random\n",
    "random.randint(1,50)"
   ]
  },
  {
   "cell_type": "code",
   "execution_count": null,
   "metadata": {},
   "outputs": [],
   "source": [
    "random.choice(names)"
   ]
  },
  {
   "cell_type": "code",
   "execution_count": null,
   "metadata": {},
   "outputs": [],
   "source": [
    "student_names:list[str] = random.choices(names,k=3)\n",
    "student_names"
   ]
  },
  {
   "cell_type": "code",
   "execution_count": 121,
   "metadata": {},
   "outputs": [
    {
     "data": {
      "text/plain": [
       "[{'name': '白美珍', '國文': 79, '英文': 61, '數學': 78},\n",
       " {'name': '吳昕婷', '國文': 71, '英文': 79, '數學': 54},\n",
       " {'name': '溫重意', '國文': 84, '英文': 99, '數學': 81}]"
      ]
     },
     "execution_count": 121,
     "metadata": {},
     "output_type": "execute_result"
    }
   ],
   "source": [
    "students:list[dict] = []\n",
    "for student_name in student_names:\n",
    "    student = dict()\n",
    "    student['name'] = student_name\n",
    "    student['國文'] = random.randint(50,100)\n",
    "    student['英文'] = random.randint(50,100)\n",
    "    student['數學'] = random.randint(50,100)\n",
    "    students.append(student)\n",
    "students"
   ]
  }
 ],
 "metadata": {
  "kernelspec": {
   "display_name": "Python 3",
   "language": "python",
   "name": "python3"
  },
  "language_info": {
   "codemirror_mode": {
    "name": "ipython",
    "version": 3
   },
   "file_extension": ".py",
   "mimetype": "text/x-python",
   "name": "python",
   "nbconvert_exporter": "python",
   "pygments_lexer": "ipython3",
   "version": "3.12.2"
  }
 },
 "nbformat": 4,
 "nbformat_minor": 2
}

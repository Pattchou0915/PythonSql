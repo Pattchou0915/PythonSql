{
 "cells": [
  {
   "cell_type": "code",
   "execution_count": 7,
   "metadata": {},
   "outputs": [],
   "source": [
    "students = [{'name':'周威豪', 'chinese':78,  'english':92,  'math':65},\n",
    "            {'name':'周威毫', 'chinese':87,  'english':29,  'math':55},\n",
    "            {'name':'周威壕', 'chinese':878, 'english':292, 'math':555}]"
   ]
  },
  {
   "cell_type": "code",
   "execution_count": 27,
   "metadata": {},
   "outputs": [
    {
     "name": "stdout",
     "output_type": "stream",
     "text": [
      "周威豪\n",
      "78\n",
      "92\n",
      "65\n",
      "=============\n",
      "周威毫\n",
      "87\n",
      "29\n",
      "55\n",
      "=============\n",
      "周威壕\n",
      "878\n",
      "292\n",
      "555\n",
      "=============\n"
     ]
    }
   ],
   "source": [
    "for student in students:\n",
    "    for key in student:\n",
    "        print(student[key])\n",
    "    print(\"=============\")"
   ]
  }
 ],
 "metadata": {
  "kernelspec": {
   "display_name": "Python 3",
   "language": "python",
   "name": "python3"
  },
  "language_info": {
   "codemirror_mode": {
    "name": "ipython",
    "version": 3
   },
   "file_extension": ".py",
   "mimetype": "text/x-python",
   "name": "python",
   "nbconvert_exporter": "python",
   "pygments_lexer": "ipython3",
   "version": "3.10.13"
  }
 },
 "nbformat": 4,
 "nbformat_minor": 2
}
